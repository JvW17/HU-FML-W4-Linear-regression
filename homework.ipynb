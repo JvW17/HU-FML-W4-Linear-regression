{
 "cells": [
  {
   "cell_type": "markdown",
   "metadata": {},
   "source": [
    "<h2>Open data and import libraries</h2>"
   ]
  },
  {
   "cell_type": "code",
   "execution_count": 103,
   "metadata": {},
   "outputs": [
    {
     "name": "stdout",
     "output_type": "stream",
     "text": [
      "      id  20-6-2013  21-6-2013  22-6-2013  23-6-2013  24-6-2013  25-6-2013  \\\n",
      "0      1        NaN        NaN        NaN        NaN     3941.0    15733.0   \n",
      "1      2        NaN        NaN    10473.0      705.0     4287.0     5507.0   \n",
      "2      3        NaN    11428.0    12523.0     2553.0      190.0     2164.0   \n",
      "3      4        NaN        NaN        NaN        NaN        NaN        NaN   \n",
      "4      5        NaN        NaN        NaN        NaN        NaN        NaN   \n",
      "..   ...        ...        ...        ...        ...        ...        ...   \n",
      "924  925        NaN     4571.0    10471.0     5899.0    15295.0     9178.0   \n",
      "925  926        NaN        NaN        NaN        NaN        NaN        NaN   \n",
      "926  927        NaN        NaN        NaN     1623.0        NaN        NaN   \n",
      "927  928        NaN        NaN    14411.0    14364.0    26629.0    13092.0   \n",
      "928  929        NaN     3324.0     4507.0    14364.0     4098.0     7299.0   \n",
      "\n",
      "     26-6-2013  27-6-2013  28-6-2013  ...  4-5-2014  5-5-2014  6-5-2014  \\\n",
      "0       9929.0    12879.0    10541.0  ...       NaN       NaN       NaN   \n",
      "1       4024.0     3926.0    14595.0  ...       NaN       NaN       NaN   \n",
      "2       8185.0     9630.0     8983.0  ...    3914.0    4364.0       NaN   \n",
      "3          NaN        NaN        NaN  ...       NaN       NaN       NaN   \n",
      "4          NaN        NaN        NaN  ...       NaN       NaN       NaN   \n",
      "..         ...        ...        ...  ...       ...       ...       ...   \n",
      "924     9348.0    12229.0    13767.0  ...       NaN       NaN       NaN   \n",
      "925        NaN        NaN        NaN  ...       NaN       NaN       NaN   \n",
      "926        NaN        NaN        NaN  ...       NaN       NaN       NaN   \n",
      "927     9266.0    14949.0    43238.0  ...       NaN       NaN       NaN   \n",
      "928    11534.0    10125.0     7700.0  ...       NaN       NaN       NaN   \n",
      "\n",
      "     7-5-2014  8-5-2014  9-5-2014  10-5-2014  11-5-2014  12-5-2014  13-5-2014  \n",
      "0         NaN       NaN       NaN        NaN        NaN        NaN        NaN  \n",
      "1         NaN       NaN       NaN        NaN        NaN        NaN        NaN  \n",
      "2         NaN       NaN    6227.0     4567.0     2567.0     1129.0        NaN  \n",
      "3         NaN       NaN       NaN        NaN        NaN        NaN        NaN  \n",
      "4         NaN       NaN       NaN        NaN        NaN        NaN        NaN  \n",
      "..        ...       ...       ...        ...        ...        ...        ...  \n",
      "924       NaN       NaN       NaN        NaN        NaN        NaN        NaN  \n",
      "925       NaN       NaN       NaN        NaN        NaN        NaN        NaN  \n",
      "926       NaN       NaN       NaN        NaN        NaN        NaN        NaN  \n",
      "927       NaN       NaN       NaN        NaN        NaN        NaN        NaN  \n",
      "928       NaN       NaN       NaN        NaN        NaN        NaN        NaN  \n",
      "\n",
      "[929 rows x 329 columns]\n",
      "      id         city  gender    age  hh_size  education          education_1  \\\n",
      "0      1     Bordeaux    Male  25-34        4          4  Master or doctorate   \n",
      "1      2        Lille    Male  35-44        1          3             Bachelor   \n",
      "2      3  Montpellier    Male  25-34        2          2  Master or doctorate   \n",
      "3      4         Lyon    Male    <25        1          1             Bachelor   \n",
      "4      5  Montpellier  Female  25-34        3          4             Bachelor   \n",
      "..   ...          ...     ...    ...      ...        ...                  ...   \n",
      "924  925        Lille  Female  45-54        3          4  Master or doctorate   \n",
      "925  926        Lille    Male    <25        3          5             Bachelor   \n",
      "926  927  Montpellier    Male  35-44        2          2             Bachelor   \n",
      "927  928        Lille  Female  55-64        1          1          High school   \n",
      "928  929         Lyon    Male  25-34        2          2          High school   \n",
      "\n",
      "     height  weight  \n",
      "0     178.0    98.0  \n",
      "1     180.0    77.0  \n",
      "2     180.0    83.0  \n",
      "3     178.0    80.0  \n",
      "4     167.0    61.0  \n",
      "..      ...     ...  \n",
      "924   165.0    59.0  \n",
      "925   192.0    90.0  \n",
      "926   181.0    71.0  \n",
      "927   172.0    65.0  \n",
      "928   180.0    76.0  \n",
      "\n",
      "[929 rows x 9 columns]\n"
     ]
    }
   ],
   "source": [
    "import seaborn as sns #this is the plotting library I'll be using \n",
    "import pandas as pd #\"as pd\" means that we can use the abbreviation in commands\n",
    "import matplotlib.pyplot as plt #we need Matplotlib for setting the labels in the Seaborn graphs\n",
    "import numpy as np\n",
    "\n",
    "from sklearn.model_selection import train_test_split\n",
    "\n",
    "from sklearn.metrics import r2_score\n",
    "from sklearn.metrics import mean_squared_error\n",
    "\n",
    "from sklearn.linear_model import LinearRegression\n",
    "\n",
    "df1 = pd.read_csv(\"steps.csv\", delimiter=\";\")\n",
    "print(df1)\n",
    "\n",
    "df2 = pd.read_csv(\"survey.csv\")\n",
    "print(df2)"
   ]
  },
  {
   "cell_type": "markdown",
   "metadata": {},
   "source": [
    "<h2>Merge datasets:</h2>"
   ]
  },
  {
   "cell_type": "code",
   "execution_count": 104,
   "metadata": {},
   "outputs": [
    {
     "name": "stdout",
     "output_type": "stream",
     "text": [
      "      id         city  gender    age  hh_size  education          education_1  \\\n",
      "0      1     Bordeaux    Male  25-34        4          4  Master or doctorate   \n",
      "1      2        Lille    Male  35-44        1          3             Bachelor   \n",
      "2      3  Montpellier    Male  25-34        2          2  Master or doctorate   \n",
      "3      4         Lyon    Male    <25        1          1             Bachelor   \n",
      "4      5  Montpellier  Female  25-34        3          4             Bachelor   \n",
      "..   ...          ...     ...    ...      ...        ...                  ...   \n",
      "924  925        Lille  Female  45-54        3          4  Master or doctorate   \n",
      "925  926        Lille    Male    <25        3          5             Bachelor   \n",
      "926  927  Montpellier    Male  35-44        2          2             Bachelor   \n",
      "927  928        Lille  Female  55-64        1          1          High school   \n",
      "928  929         Lyon    Male  25-34        2          2          High school   \n",
      "\n",
      "     height  weight  20-6-2013  ...  4-5-2014  5-5-2014  6-5-2014  7-5-2014  \\\n",
      "0     178.0    98.0        0.0  ...       0.0       0.0       0.0       0.0   \n",
      "1     180.0    77.0        0.0  ...       0.0       0.0       0.0       0.0   \n",
      "2     180.0    83.0        0.0  ...    3914.0    4364.0       0.0       0.0   \n",
      "3     178.0    80.0        0.0  ...       0.0       0.0       0.0       0.0   \n",
      "4     167.0    61.0        0.0  ...       0.0       0.0       0.0       0.0   \n",
      "..      ...     ...        ...  ...       ...       ...       ...       ...   \n",
      "924   165.0    59.0        0.0  ...       0.0       0.0       0.0       0.0   \n",
      "925   192.0    90.0        0.0  ...       0.0       0.0       0.0       0.0   \n",
      "926   181.0    71.0        0.0  ...       0.0       0.0       0.0       0.0   \n",
      "927   172.0    65.0        0.0  ...       0.0       0.0       0.0       0.0   \n",
      "928   180.0    76.0        0.0  ...       0.0       0.0       0.0       0.0   \n",
      "\n",
      "     8-5-2014  9-5-2014  10-5-2014  11-5-2014  12-5-2014  13-5-2014  \n",
      "0         0.0       0.0        0.0        0.0        0.0        0.0  \n",
      "1         0.0       0.0        0.0        0.0        0.0        0.0  \n",
      "2         0.0    6227.0     4567.0     2567.0     1129.0        0.0  \n",
      "3         0.0       0.0        0.0        0.0        0.0        0.0  \n",
      "4         0.0       0.0        0.0        0.0        0.0        0.0  \n",
      "..        ...       ...        ...        ...        ...        ...  \n",
      "924       0.0       0.0        0.0        0.0        0.0        0.0  \n",
      "925       0.0       0.0        0.0        0.0        0.0        0.0  \n",
      "926       0.0       0.0        0.0        0.0        0.0        0.0  \n",
      "927       0.0       0.0        0.0        0.0        0.0        0.0  \n",
      "928       0.0       0.0        0.0        0.0        0.0        0.0  \n",
      "\n",
      "[924 rows x 337 columns]\n"
     ]
    }
   ],
   "source": [
    "df = pd.merge(df2, df1, on = \"id\")\n",
    "\n",
    "# Check minimum and maximum height and weight by using describe() and by sorting.\n",
    "# print(df[\"height\"].describe())\n",
    "# print(df.sort_values(by=\"height\", ascending=True))\n",
    "\n",
    "# Replace all NANs with a zero to eliminate empty values.\n",
    "df = df.fillna(0)\n",
    "\n",
    "# Remove weights that are below 35kg and above 156kg.\n",
    "df = df[(df[\"weight\"] < 156) & (df[\"weight\"] > 35)]\n",
    "print(df)"
   ]
  },
  {
   "cell_type": "markdown",
   "metadata": {},
   "source": [
    "<h2>Find out the mean steps per participant:</h2>"
   ]
  },
  {
   "cell_type": "code",
   "execution_count": 105,
   "metadata": {},
   "outputs": [
    {
     "data": {
      "text/html": [
       "<div>\n",
       "<style scoped>\n",
       "    .dataframe tbody tr th:only-of-type {\n",
       "        vertical-align: middle;\n",
       "    }\n",
       "\n",
       "    .dataframe tbody tr th {\n",
       "        vertical-align: top;\n",
       "    }\n",
       "\n",
       "    .dataframe thead th {\n",
       "        text-align: right;\n",
       "    }\n",
       "</style>\n",
       "<table border=\"1\" class=\"dataframe\">\n",
       "  <thead>\n",
       "    <tr style=\"text-align: right;\">\n",
       "      <th></th>\n",
       "      <th>Mean_steps_per_participant</th>\n",
       "      <th>id</th>\n",
       "      <th>city</th>\n",
       "      <th>gender</th>\n",
       "      <th>age</th>\n",
       "      <th>hh_size</th>\n",
       "      <th>education</th>\n",
       "      <th>education_1</th>\n",
       "      <th>height</th>\n",
       "      <th>weight</th>\n",
       "      <th>...</th>\n",
       "      <th>4-5-2014</th>\n",
       "      <th>5-5-2014</th>\n",
       "      <th>6-5-2014</th>\n",
       "      <th>7-5-2014</th>\n",
       "      <th>8-5-2014</th>\n",
       "      <th>9-5-2014</th>\n",
       "      <th>10-5-2014</th>\n",
       "      <th>11-5-2014</th>\n",
       "      <th>12-5-2014</th>\n",
       "      <th>13-5-2014</th>\n",
       "    </tr>\n",
       "  </thead>\n",
       "  <tbody>\n",
       "    <tr>\n",
       "      <th>0</th>\n",
       "      <td>5134.0</td>\n",
       "      <td>1</td>\n",
       "      <td>Bordeaux</td>\n",
       "      <td>Male</td>\n",
       "      <td>25-34</td>\n",
       "      <td>4</td>\n",
       "      <td>4</td>\n",
       "      <td>Master or doctorate</td>\n",
       "      <td>178.0</td>\n",
       "      <td>98.0</td>\n",
       "      <td>...</td>\n",
       "      <td>0.0</td>\n",
       "      <td>0.0</td>\n",
       "      <td>0.0</td>\n",
       "      <td>0.0</td>\n",
       "      <td>0.0</td>\n",
       "      <td>0.0</td>\n",
       "      <td>0.0</td>\n",
       "      <td>0.0</td>\n",
       "      <td>0.0</td>\n",
       "      <td>0.0</td>\n",
       "    </tr>\n",
       "    <tr>\n",
       "      <th>1</th>\n",
       "      <td>2826.0</td>\n",
       "      <td>2</td>\n",
       "      <td>Lille</td>\n",
       "      <td>Male</td>\n",
       "      <td>35-44</td>\n",
       "      <td>1</td>\n",
       "      <td>3</td>\n",
       "      <td>Bachelor</td>\n",
       "      <td>180.0</td>\n",
       "      <td>77.0</td>\n",
       "      <td>...</td>\n",
       "      <td>0.0</td>\n",
       "      <td>0.0</td>\n",
       "      <td>0.0</td>\n",
       "      <td>0.0</td>\n",
       "      <td>0.0</td>\n",
       "      <td>0.0</td>\n",
       "      <td>0.0</td>\n",
       "      <td>0.0</td>\n",
       "      <td>0.0</td>\n",
       "      <td>0.0</td>\n",
       "    </tr>\n",
       "    <tr>\n",
       "      <th>2</th>\n",
       "      <td>3746.0</td>\n",
       "      <td>3</td>\n",
       "      <td>Montpellier</td>\n",
       "      <td>Male</td>\n",
       "      <td>25-34</td>\n",
       "      <td>2</td>\n",
       "      <td>2</td>\n",
       "      <td>Master or doctorate</td>\n",
       "      <td>180.0</td>\n",
       "      <td>83.0</td>\n",
       "      <td>...</td>\n",
       "      <td>3914.0</td>\n",
       "      <td>4364.0</td>\n",
       "      <td>0.0</td>\n",
       "      <td>0.0</td>\n",
       "      <td>0.0</td>\n",
       "      <td>6227.0</td>\n",
       "      <td>4567.0</td>\n",
       "      <td>2567.0</td>\n",
       "      <td>1129.0</td>\n",
       "      <td>0.0</td>\n",
       "    </tr>\n",
       "    <tr>\n",
       "      <th>3</th>\n",
       "      <td>222.0</td>\n",
       "      <td>4</td>\n",
       "      <td>Lyon</td>\n",
       "      <td>Male</td>\n",
       "      <td>&lt;25</td>\n",
       "      <td>1</td>\n",
       "      <td>1</td>\n",
       "      <td>Bachelor</td>\n",
       "      <td>178.0</td>\n",
       "      <td>80.0</td>\n",
       "      <td>...</td>\n",
       "      <td>0.0</td>\n",
       "      <td>0.0</td>\n",
       "      <td>0.0</td>\n",
       "      <td>0.0</td>\n",
       "      <td>0.0</td>\n",
       "      <td>0.0</td>\n",
       "      <td>0.0</td>\n",
       "      <td>0.0</td>\n",
       "      <td>0.0</td>\n",
       "      <td>0.0</td>\n",
       "    </tr>\n",
       "    <tr>\n",
       "      <th>4</th>\n",
       "      <td>875.0</td>\n",
       "      <td>5</td>\n",
       "      <td>Montpellier</td>\n",
       "      <td>Female</td>\n",
       "      <td>25-34</td>\n",
       "      <td>3</td>\n",
       "      <td>4</td>\n",
       "      <td>Bachelor</td>\n",
       "      <td>167.0</td>\n",
       "      <td>61.0</td>\n",
       "      <td>...</td>\n",
       "      <td>0.0</td>\n",
       "      <td>0.0</td>\n",
       "      <td>0.0</td>\n",
       "      <td>0.0</td>\n",
       "      <td>0.0</td>\n",
       "      <td>0.0</td>\n",
       "      <td>0.0</td>\n",
       "      <td>0.0</td>\n",
       "      <td>0.0</td>\n",
       "      <td>0.0</td>\n",
       "    </tr>\n",
       "  </tbody>\n",
       "</table>\n",
       "<p>5 rows × 338 columns</p>\n",
       "</div>"
      ],
      "text/plain": [
       "   Mean_steps_per_participant  id         city  gender    age  hh_size  \\\n",
       "0                      5134.0   1     Bordeaux    Male  25-34        4   \n",
       "1                      2826.0   2        Lille    Male  35-44        1   \n",
       "2                      3746.0   3  Montpellier    Male  25-34        2   \n",
       "3                       222.0   4         Lyon    Male    <25        1   \n",
       "4                       875.0   5  Montpellier  Female  25-34        3   \n",
       "\n",
       "   education          education_1  height  weight  ...  4-5-2014  5-5-2014  \\\n",
       "0          4  Master or doctorate   178.0    98.0  ...       0.0       0.0   \n",
       "1          3             Bachelor   180.0    77.0  ...       0.0       0.0   \n",
       "2          2  Master or doctorate   180.0    83.0  ...    3914.0    4364.0   \n",
       "3          1             Bachelor   178.0    80.0  ...       0.0       0.0   \n",
       "4          4             Bachelor   167.0    61.0  ...       0.0       0.0   \n",
       "\n",
       "   6-5-2014  7-5-2014  8-5-2014  9-5-2014  10-5-2014  11-5-2014  12-5-2014  \\\n",
       "0       0.0       0.0       0.0       0.0        0.0        0.0        0.0   \n",
       "1       0.0       0.0       0.0       0.0        0.0        0.0        0.0   \n",
       "2       0.0       0.0       0.0    6227.0     4567.0     2567.0     1129.0   \n",
       "3       0.0       0.0       0.0       0.0        0.0        0.0        0.0   \n",
       "4       0.0       0.0       0.0       0.0        0.0        0.0        0.0   \n",
       "\n",
       "   13-5-2014  \n",
       "0        0.0  \n",
       "1        0.0  \n",
       "2        0.0  \n",
       "3        0.0  \n",
       "4        0.0  \n",
       "\n",
       "[5 rows x 338 columns]"
      ]
     },
     "execution_count": 105,
     "metadata": {},
     "output_type": "execute_result"
    }
   ],
   "source": [
    "# Select the first date row in the dataframe, use axis=1 in .mean() to calculate the mean steps of each user over all measured days.\n",
    "meanStepsPerParticipant = df.loc[:,\"20-6-2013\":].mean(axis=1).round()\n",
    "df[\"Mean_steps_per_participant\"] = meanStepsPerParticipant\n",
    "\n",
    "# Show the mean steps as the first column in the dataframe.\n",
    "first_column = df.pop(\"Mean_steps_per_participant\")\n",
    "df.insert(0, \"Mean_steps_per_participant\", first_column)\n",
    "\n",
    "# print(meanStepsPerParticipant)\n",
    "\n",
    "# Show the first five.\n",
    "# print(df)\n",
    "df.head()\n"
   ]
  },
  {
   "cell_type": "markdown",
   "metadata": {},
   "source": [
    "<h2>Visualize the mean steps in a distplot:</h2>"
   ]
  },
  {
   "cell_type": "code",
   "execution_count": 106,
   "metadata": {},
   "outputs": [
    {
     "name": "stderr",
     "output_type": "stream",
     "text": [
      "c:\\Users\\jvanw\\anaconda3\\lib\\site-packages\\seaborn\\distributions.py:2619: FutureWarning: `distplot` is a deprecated function and will be removed in a future version. Please adapt your code to use either `displot` (a figure-level function with similar flexibility) or `histplot` (an axes-level function for histograms).\n",
      "  warnings.warn(msg, FutureWarning)\n"
     ]
    },
    {
     "data": {
      "image/png": "[encoded data removed]",
      "text/plain": [
       "<Figure size 432x288 with 1 Axes>"
      ]
     },
     "metadata": {
      "needs_background": "light"
     },
     "output_type": "display_data"
    }
   ],
   "source": [
    "sns.distplot(meanStepsPerParticipant, kde=False)\n",
    "plt.title(\"Mean steps per participant\")\n",
    "plt.xlabel(\"Steps\")\n",
    "plt.ylabel(\"Participants\")\n",
    "plt.show()"
   ]
  },
  {
   "cell_type": "markdown",
   "metadata": {},
   "source": [
    "<h2>Central tendency and variation:</h2>"
   ]
  },
  {
   "cell_type": "code",
   "execution_count": 107,
   "metadata": {},
   "outputs": [
    {
     "name": "stdout",
     "output_type": "stream",
     "text": [
      "The mean steps are: 2347.45670995671 steps\n",
      "The median steps are: 1660.0 steps\n",
      "The standard deviation steps are: 2412.5676405896565 steps\n"
     ]
    },
    {
     "data": {
      "image/png": "[encoded data removed]",
      "text/plain": [
       "<Figure size 432x288 with 1 Axes>"
      ]
     },
     "metadata": {
      "needs_background": "light"
     },
     "output_type": "display_data"
    }
   ],
   "source": [
    "mean_steps = df[\"Mean_steps_per_participant\"].mean()\n",
    "median_steps = df[\"Mean_steps_per_participant\"].median()\n",
    "standardDeviation = np.std(df[\"Mean_steps_per_participant\"])\n",
    "\n",
    "print(f'The mean steps are: {mean_steps} steps')\n",
    "print(f'The median steps are: {median_steps} steps')\n",
    "print(f'The standard deviation steps are: {standardDeviation} steps')\n",
    "\n",
    "sns.distplot(df[\"Mean_steps_per_participant\"], kde=False)\n",
    "plt.title(\"Mean steps per participant\")\n",
    "plt.axvline(median_steps, 0, 100, color='green', label='median')\n",
    "plt.axvline(mean_steps, 0, 100, color='blue', label='mean')\n",
    "plt.axvline(standardDeviation, 0, 100, color='hotpink', label='standard deviation')\n",
    "plt.legend()\n",
    "plt.show()"
   ]
  },
  {
   "cell_type": "markdown",
   "metadata": {},
   "source": [
    "Description about the plot above:\n",
    "- Normality: the normality is normal, all steps are well above 0 and sometimes even above 10.000.\n",
    "- Variation: variation is present. Most steps are below 1000, a reasonable amount of the steps are between 1000 and 5000. A small amount of steps are above 5000.\n",
    "- Modality: there is one peak and five smaller peaks.\n",
    "- Skewness: a positive skew is present.\n",
    "- Outliers: a few outliners are present above the 12.500 steps. "
   ]
  },
  {
   "cell_type": "markdown",
   "metadata": {},
   "source": [
    "<h2>Relation of the mean steps with two other categorical variables:</h2>"
   ]
  },
  {
   "cell_type": "code",
   "execution_count": 108,
   "metadata": {},
   "outputs": [
    {
     "data": {
      "image/png": "[encoded data removed]",
      "text/plain": [
       "<Figure size 432x288 with 1 Axes>"
      ]
     },
     "metadata": {
      "needs_background": "light"
     },
     "output_type": "display_data"
    }
   ],
   "source": [
    "sns.stripplot(y=\"Mean_steps_per_participant\", x=\"gender\", hue=\"education_1\", data=df)\n",
    "plt.title('Mean steps per participant')\n",
    "plt.ylabel('Mean steps')\n",
    "plt.xlabel('Participants')\n",
    "plt.show()"
   ]
  },
  {
   "cell_type": "markdown",
   "metadata": {},
   "source": [
    "Description about the plot above:\n",
    "- The amount of \"Master or doctorate\" education for males stand out. For females the amount of \"Bachelor\" stand out, although there is still a reasonable amount of \"Master or doctorate\" present.\n",
    "- Male peaks are dominated by \"Bachelor\" and \"Master or doctorate\" education. Female peaks are dominated by \"Bachelor\" and \"High school\".\n",
    "\n",
    "The educational level of females and males are roughly the same, although the amount of high school degrees are more present for females. Males with a high school degree tend to perform worser than males with higher educational levels. Females with a high school degree perform overall good and bad."
   ]
  },
  {
   "cell_type": "markdown",
   "metadata": {},
   "source": [
    "<h2>Assignment week 2, make a better prediction of the model by calculating the BMI:</h2>"
   ]
  },
  {
   "cell_type": "code",
   "execution_count": 109,
   "metadata": {},
   "outputs": [
    {
     "name": "stdout",
     "output_type": "stream",
     "text": [
      "0      30.930438\n",
      "1      23.765432\n",
      "2      25.617284\n",
      "3      25.249337\n",
      "4      21.872423\n",
      "         ...    \n",
      "924    21.671258\n",
      "925    24.414062\n",
      "926    21.672110\n",
      "927    21.971336\n",
      "928    23.456790\n",
      "Name: BMI, Length: 922, dtype: float64\n"
     ]
    }
   ],
   "source": [
    "participantWeight = df[\"weight\"]\n",
    "df[\"height\"] = df[\"height\"] / 100\n",
    "participantHeight = df[\"height\"]\n",
    "\n",
    "df[\"BMI\"] = participantWeight / (participantHeight * participantHeight)\n",
    "# df[\"BMI\"].describe()\n",
    "\n",
    "# Remove infinite BMI\n",
    "df = df[df[\"BMI\"] < 60]\n",
    "\n",
    "print(df[\"BMI\"])"
   ]
  },
  {
   "cell_type": "markdown",
   "metadata": {},
   "source": [
    "<h2>Make a scatterplot of the numerical variables:</h2>"
   ]
  },
  {
   "cell_type": "code",
   "execution_count": 110,
   "metadata": {},
   "outputs": [
    {
     "data": {
      "image/png": "[encoded data removed]",
      "text/plain": [
       "<Figure size 540x540 with 12 Axes>"
      ]
     },
     "metadata": {
      "needs_background": "light"
     },
     "output_type": "display_data"
    }
   ],
   "source": [
    "subsetColumns = df[[\"BMI\", \"hh_size\", \"Mean_steps_per_participant\"]]\n",
    "sns.pairplot(subsetColumns)\n",
    "plt.show()"
   ]
  },
  {
   "cell_type": "markdown",
   "metadata": {},
   "source": [
    "Description about the plots above:\n",
    "- BMI has a correlation with hh-size and mean steps. Multiple outliers are present.\n",
    "- Hh-size also has a correlation with BMI and mean steps. One outlier is present.\n",
    "- Mean steps also has a correlation with BMI and hh-size. Multiple outliers are present."
   ]
  },
  {
   "cell_type": "markdown",
   "metadata": {},
   "source": [
    "<h2>Correlation of the numerical variables:</h2>"
   ]
  },
  {
   "cell_type": "code",
   "execution_count": 111,
   "metadata": {},
   "outputs": [
    {
     "data": {
      "text/html": [
       "<div>\n",
       "<style scoped>\n",
       "    .dataframe tbody tr th:only-of-type {\n",
       "        vertical-align: middle;\n",
       "    }\n",
       "\n",
       "    .dataframe tbody tr th {\n",
       "        vertical-align: top;\n",
       "    }\n",
       "\n",
       "    .dataframe thead th {\n",
       "        text-align: right;\n",
       "    }\n",
       "</style>\n",
       "<table border=\"1\" class=\"dataframe\">\n",
       "  <thead>\n",
       "    <tr style=\"text-align: right;\">\n",
       "      <th></th>\n",
       "      <th>BMI</th>\n",
       "      <th>hh_size</th>\n",
       "      <th>Mean_steps_per_participant</th>\n",
       "    </tr>\n",
       "  </thead>\n",
       "  <tbody>\n",
       "    <tr>\n",
       "      <th>BMI</th>\n",
       "      <td>1.000000</td>\n",
       "      <td>0.031850</td>\n",
       "      <td>-0.054818</td>\n",
       "    </tr>\n",
       "    <tr>\n",
       "      <th>hh_size</th>\n",
       "      <td>0.031850</td>\n",
       "      <td>1.000000</td>\n",
       "      <td>0.038256</td>\n",
       "    </tr>\n",
       "    <tr>\n",
       "      <th>Mean_steps_per_participant</th>\n",
       "      <td>-0.054818</td>\n",
       "      <td>0.038256</td>\n",
       "      <td>1.000000</td>\n",
       "    </tr>\n",
       "  </tbody>\n",
       "</table>\n",
       "</div>"
      ],
      "text/plain": [
       "                                 BMI   hh_size  Mean_steps_per_participant\n",
       "BMI                         1.000000  0.031850                   -0.054818\n",
       "hh_size                     0.031850  1.000000                    0.038256\n",
       "Mean_steps_per_participant -0.054818  0.038256                    1.000000"
      ]
     },
     "execution_count": 111,
     "metadata": {},
     "output_type": "execute_result"
    }
   ],
   "source": [
    "corr = df[[\"BMI\", \"hh_size\", \"Mean_steps_per_participant\"]].corr()\n",
    "corr"
   ]
  },
  {
   "cell_type": "markdown",
   "metadata": {},
   "source": [
    "This above significance makes the following clear:\n",
    "- There is a weak significance between BMI and hh-size.\n",
    "- There is a moderate significance between BMI and mean steps.\n",
    "- There is a weak significance between hh-size and mean steps."
   ]
  },
  {
   "cell_type": "markdown",
   "metadata": {},
   "source": [
    "<h2>Make a heatmap, because it looks cool (I mean, it makes the visualisation of the correlation clearly visible):</h2>"
   ]
  },
  {
   "cell_type": "code",
   "execution_count": 112,
   "metadata": {},
   "outputs": [
    {
     "data": {
      "image/png": "[encoded data removed]",
      "text/plain": [
       "<Figure size 432x288 with 2 Axes>"
      ]
     },
     "metadata": {
      "needs_background": "light"
     },
     "output_type": "display_data"
    }
   ],
   "source": [
    "sns.heatmap(corr, xticklabels=corr.columns, yticklabels=corr.columns)\n",
    "plt.show()"
   ]
  },
  {
   "cell_type": "markdown",
   "metadata": {},
   "source": [
    "The above significance is like a diagonal mirror. It has the same significances as described in the above description (because it is the same dataframe)."
   ]
  },
  {
   "cell_type": "markdown",
   "metadata": {},
   "source": [
    "<h2>Make a kdeplot about the relation between the mean steps, BMI, and hh_size:</h2>"
   ]
  },
  {
   "cell_type": "code",
   "execution_count": 113,
   "metadata": {},
   "outputs": [
    {
     "name": "stderr",
     "output_type": "stream",
     "text": [
      "c:\\Users\\jvanw\\anaconda3\\lib\\site-packages\\seaborn\\distributions.py:1106: UserWarning: Dataset has 0 variance; skipping density estimate. Pass `warn_singular=False` to disable this warning.\n",
      "  warnings.warn(msg, UserWarning)\n"
     ]
    },
    {
     "data": {
      "text/plain": [
       "<AxesSubplot:xlabel='Mean_steps_per_participant', ylabel='BMI'>"
      ]
     },
     "execution_count": 113,
     "metadata": {},
     "output_type": "execute_result"
    },
    {
     "data": {
      "image/png": "[encoded data removed]",
      "text/plain": [
       "<Figure size 432x288 with 1 Axes>"
      ]
     },
     "metadata": {
      "needs_background": "light"
     },
     "output_type": "display_data"
    }
   ],
   "source": [
    "# sns.kdeplot(data=df, x=\"BMI\", y=\"Mean_steps_per_participant\", multiple=\"stack\")\n",
    "\n",
    "sns.kdeplot(\n",
    "    data=df, x=\"Mean_steps_per_participant\", y=\"BMI\", hue=\"hh_size\",  fill=True, common_norm=False, palette=\"Set2\", alpha=.75\n",
    ")"
   ]
  },
  {
   "cell_type": "markdown",
   "metadata": {},
   "source": [
    "What makes clear from the above?\n",
    "- A lot of participants with a hh-size of 6 has made low steps.\n",
    "- Many participants with a hh-size of 4 and 5 made at least 10.000 steps. There are some outliers with the hh-size of 4.\n",
    "- There is one outlier of participants with a hh-size of 1 , they made few steps and have a high BMI.\n",
    "- There is a decent amount of participants with a BMI above 30."
   ]
  },
  {
   "cell_type": "markdown",
   "metadata": {},
   "source": [
    "<h2>Week 3 homework</h2>"
   ]
  },
  {
   "cell_type": "markdown",
   "metadata": {},
   "source": [
    "<h3>Description about linear regression in my own words</h3>\n",
    "Linear regression creates a model that depicts the relationship between the dependent and independent variable."
   ]
  },
  {
   "cell_type": "markdown",
   "metadata": {},
   "source": [
    "Create dummy variables for the categorical variables:"
   ]
  },
  {
   "cell_type": "code",
   "execution_count": 114,
   "metadata": {},
   "outputs": [
    {
     "data": {
      "text/html": [
       "<div>\n",
       "<style scoped>\n",
       "    .dataframe tbody tr th:only-of-type {\n",
       "        vertical-align: middle;\n",
       "    }\n",
       "\n",
       "    .dataframe tbody tr th {\n",
       "        vertical-align: top;\n",
       "    }\n",
       "\n",
       "    .dataframe thead th {\n",
       "        text-align: right;\n",
       "    }\n",
       "</style>\n",
       "<table border=\"1\" class=\"dataframe\">\n",
       "  <thead>\n",
       "    <tr style=\"text-align: right;\">\n",
       "      <th></th>\n",
       "      <th>Mean_steps_per_participant</th>\n",
       "      <th>id</th>\n",
       "      <th>hh_size</th>\n",
       "      <th>education</th>\n",
       "      <th>height</th>\n",
       "      <th>weight</th>\n",
       "      <th>20-6-2013</th>\n",
       "      <th>21-6-2013</th>\n",
       "      <th>22-6-2013</th>\n",
       "      <th>23-6-2013</th>\n",
       "      <th>...</th>\n",
       "      <th>age_45-54</th>\n",
       "      <th>age_55-64</th>\n",
       "      <th>age_65+</th>\n",
       "      <th>age_&lt;25</th>\n",
       "      <th>education_1_Bachelor</th>\n",
       "      <th>education_1_High school</th>\n",
       "      <th>education_1_Master or doctorate</th>\n",
       "      <th>education_1_No degree</th>\n",
       "      <th>education_1_Primary</th>\n",
       "      <th>education_1_Vocational</th>\n",
       "    </tr>\n",
       "  </thead>\n",
       "  <tbody>\n",
       "    <tr>\n",
       "      <th>0</th>\n",
       "      <td>5134.0</td>\n",
       "      <td>1</td>\n",
       "      <td>4</td>\n",
       "      <td>4</td>\n",
       "      <td>1.78</td>\n",
       "      <td>98.0</td>\n",
       "      <td>0.0</td>\n",
       "      <td>0.0</td>\n",
       "      <td>0.0</td>\n",
       "      <td>0.0</td>\n",
       "      <td>...</td>\n",
       "      <td>0</td>\n",
       "      <td>0</td>\n",
       "      <td>0</td>\n",
       "      <td>0</td>\n",
       "      <td>0</td>\n",
       "      <td>0</td>\n",
       "      <td>1</td>\n",
       "      <td>0</td>\n",
       "      <td>0</td>\n",
       "      <td>0</td>\n",
       "    </tr>\n",
       "    <tr>\n",
       "      <th>1</th>\n",
       "      <td>2826.0</td>\n",
       "      <td>2</td>\n",
       "      <td>1</td>\n",
       "      <td>3</td>\n",
       "      <td>1.80</td>\n",
       "      <td>77.0</td>\n",
       "      <td>0.0</td>\n",
       "      <td>0.0</td>\n",
       "      <td>10473.0</td>\n",
       "      <td>705.0</td>\n",
       "      <td>...</td>\n",
       "      <td>0</td>\n",
       "      <td>0</td>\n",
       "      <td>0</td>\n",
       "      <td>0</td>\n",
       "      <td>1</td>\n",
       "      <td>0</td>\n",
       "      <td>0</td>\n",
       "      <td>0</td>\n",
       "      <td>0</td>\n",
       "      <td>0</td>\n",
       "    </tr>\n",
       "    <tr>\n",
       "      <th>2</th>\n",
       "      <td>3746.0</td>\n",
       "      <td>3</td>\n",
       "      <td>2</td>\n",
       "      <td>2</td>\n",
       "      <td>1.80</td>\n",
       "      <td>83.0</td>\n",
       "      <td>0.0</td>\n",
       "      <td>11428.0</td>\n",
       "      <td>12523.0</td>\n",
       "      <td>2553.0</td>\n",
       "      <td>...</td>\n",
       "      <td>0</td>\n",
       "      <td>0</td>\n",
       "      <td>0</td>\n",
       "      <td>0</td>\n",
       "      <td>0</td>\n",
       "      <td>0</td>\n",
       "      <td>1</td>\n",
       "      <td>0</td>\n",
       "      <td>0</td>\n",
       "      <td>0</td>\n",
       "    </tr>\n",
       "    <tr>\n",
       "      <th>3</th>\n",
       "      <td>222.0</td>\n",
       "      <td>4</td>\n",
       "      <td>1</td>\n",
       "      <td>1</td>\n",
       "      <td>1.78</td>\n",
       "      <td>80.0</td>\n",
       "      <td>0.0</td>\n",
       "      <td>0.0</td>\n",
       "      <td>0.0</td>\n",
       "      <td>0.0</td>\n",
       "      <td>...</td>\n",
       "      <td>0</td>\n",
       "      <td>0</td>\n",
       "      <td>0</td>\n",
       "      <td>1</td>\n",
       "      <td>1</td>\n",
       "      <td>0</td>\n",
       "      <td>0</td>\n",
       "      <td>0</td>\n",
       "      <td>0</td>\n",
       "      <td>0</td>\n",
       "    </tr>\n",
       "    <tr>\n",
       "      <th>4</th>\n",
       "      <td>875.0</td>\n",
       "      <td>5</td>\n",
       "      <td>3</td>\n",
       "      <td>4</td>\n",
       "      <td>1.67</td>\n",
       "      <td>61.0</td>\n",
       "      <td>0.0</td>\n",
       "      <td>0.0</td>\n",
       "      <td>0.0</td>\n",
       "      <td>0.0</td>\n",
       "      <td>...</td>\n",
       "      <td>0</td>\n",
       "      <td>0</td>\n",
       "      <td>0</td>\n",
       "      <td>0</td>\n",
       "      <td>1</td>\n",
       "      <td>0</td>\n",
       "      <td>0</td>\n",
       "      <td>0</td>\n",
       "      <td>0</td>\n",
       "      <td>0</td>\n",
       "    </tr>\n",
       "    <tr>\n",
       "      <th>...</th>\n",
       "      <td>...</td>\n",
       "      <td>...</td>\n",
       "      <td>...</td>\n",
       "      <td>...</td>\n",
       "      <td>...</td>\n",
       "      <td>...</td>\n",
       "      <td>...</td>\n",
       "      <td>...</td>\n",
       "      <td>...</td>\n",
       "      <td>...</td>\n",
       "      <td>...</td>\n",
       "      <td>...</td>\n",
       "      <td>...</td>\n",
       "      <td>...</td>\n",
       "      <td>...</td>\n",
       "      <td>...</td>\n",
       "      <td>...</td>\n",
       "      <td>...</td>\n",
       "      <td>...</td>\n",
       "      <td>...</td>\n",
       "      <td>...</td>\n",
       "    </tr>\n",
       "    <tr>\n",
       "      <th>924</th>\n",
       "      <td>1743.0</td>\n",
       "      <td>925</td>\n",
       "      <td>3</td>\n",
       "      <td>4</td>\n",
       "      <td>1.65</td>\n",
       "      <td>59.0</td>\n",
       "      <td>0.0</td>\n",
       "      <td>4571.0</td>\n",
       "      <td>10471.0</td>\n",
       "      <td>5899.0</td>\n",
       "      <td>...</td>\n",
       "      <td>1</td>\n",
       "      <td>0</td>\n",
       "      <td>0</td>\n",
       "      <td>0</td>\n",
       "      <td>0</td>\n",
       "      <td>0</td>\n",
       "      <td>1</td>\n",
       "      <td>0</td>\n",
       "      <td>0</td>\n",
       "      <td>0</td>\n",
       "    </tr>\n",
       "    <tr>\n",
       "      <th>925</th>\n",
       "      <td>732.0</td>\n",
       "      <td>926</td>\n",
       "      <td>3</td>\n",
       "      <td>5</td>\n",
       "      <td>1.92</td>\n",
       "      <td>90.0</td>\n",
       "      <td>0.0</td>\n",
       "      <td>0.0</td>\n",
       "      <td>0.0</td>\n",
       "      <td>0.0</td>\n",
       "      <td>...</td>\n",
       "      <td>0</td>\n",
       "      <td>0</td>\n",
       "      <td>0</td>\n",
       "      <td>1</td>\n",
       "      <td>1</td>\n",
       "      <td>0</td>\n",
       "      <td>0</td>\n",
       "      <td>0</td>\n",
       "      <td>0</td>\n",
       "      <td>0</td>\n",
       "    </tr>\n",
       "    <tr>\n",
       "      <th>926</th>\n",
       "      <td>6269.0</td>\n",
       "      <td>927</td>\n",
       "      <td>2</td>\n",
       "      <td>2</td>\n",
       "      <td>1.81</td>\n",
       "      <td>71.0</td>\n",
       "      <td>0.0</td>\n",
       "      <td>0.0</td>\n",
       "      <td>0.0</td>\n",
       "      <td>1623.0</td>\n",
       "      <td>...</td>\n",
       "      <td>0</td>\n",
       "      <td>0</td>\n",
       "      <td>0</td>\n",
       "      <td>0</td>\n",
       "      <td>1</td>\n",
       "      <td>0</td>\n",
       "      <td>0</td>\n",
       "      <td>0</td>\n",
       "      <td>0</td>\n",
       "      <td>0</td>\n",
       "    </tr>\n",
       "    <tr>\n",
       "      <th>927</th>\n",
       "      <td>3872.0</td>\n",
       "      <td>928</td>\n",
       "      <td>1</td>\n",
       "      <td>1</td>\n",
       "      <td>1.72</td>\n",
       "      <td>65.0</td>\n",
       "      <td>0.0</td>\n",
       "      <td>0.0</td>\n",
       "      <td>14411.0</td>\n",
       "      <td>14364.0</td>\n",
       "      <td>...</td>\n",
       "      <td>0</td>\n",
       "      <td>1</td>\n",
       "      <td>0</td>\n",
       "      <td>0</td>\n",
       "      <td>0</td>\n",
       "      <td>1</td>\n",
       "      <td>0</td>\n",
       "      <td>0</td>\n",
       "      <td>0</td>\n",
       "      <td>0</td>\n",
       "    </tr>\n",
       "    <tr>\n",
       "      <th>928</th>\n",
       "      <td>3168.0</td>\n",
       "      <td>929</td>\n",
       "      <td>2</td>\n",
       "      <td>2</td>\n",
       "      <td>1.80</td>\n",
       "      <td>76.0</td>\n",
       "      <td>0.0</td>\n",
       "      <td>3324.0</td>\n",
       "      <td>4507.0</td>\n",
       "      <td>14364.0</td>\n",
       "      <td>...</td>\n",
       "      <td>0</td>\n",
       "      <td>0</td>\n",
       "      <td>0</td>\n",
       "      <td>0</td>\n",
       "      <td>0</td>\n",
       "      <td>1</td>\n",
       "      <td>0</td>\n",
       "      <td>0</td>\n",
       "      <td>0</td>\n",
       "      <td>0</td>\n",
       "    </tr>\n",
       "  </tbody>\n",
       "</table>\n",
       "<p>922 rows × 353 columns</p>\n",
       "</div>"
      ],
      "text/plain": [
       "     Mean_steps_per_participant   id  hh_size  education  height  weight  \\\n",
       "0                        5134.0    1        4          4    1.78    98.0   \n",
       "1                        2826.0    2        1          3    1.80    77.0   \n",
       "2                        3746.0    3        2          2    1.80    83.0   \n",
       "3                         222.0    4        1          1    1.78    80.0   \n",
       "4                         875.0    5        3          4    1.67    61.0   \n",
       "..                          ...  ...      ...        ...     ...     ...   \n",
       "924                      1743.0  925        3          4    1.65    59.0   \n",
       "925                       732.0  926        3          5    1.92    90.0   \n",
       "926                      6269.0  927        2          2    1.81    71.0   \n",
       "927                      3872.0  928        1          1    1.72    65.0   \n",
       "928                      3168.0  929        2          2    1.80    76.0   \n",
       "\n",
       "     20-6-2013  21-6-2013  22-6-2013  23-6-2013  ...  age_45-54  age_55-64  \\\n",
       "0          0.0        0.0        0.0        0.0  ...          0          0   \n",
       "1          0.0        0.0    10473.0      705.0  ...          0          0   \n",
       "2          0.0    11428.0    12523.0     2553.0  ...          0          0   \n",
       "3          0.0        0.0        0.0        0.0  ...          0          0   \n",
       "4          0.0        0.0        0.0        0.0  ...          0          0   \n",
       "..         ...        ...        ...        ...  ...        ...        ...   \n",
       "924        0.0     4571.0    10471.0     5899.0  ...          1          0   \n",
       "925        0.0        0.0        0.0        0.0  ...          0          0   \n",
       "926        0.0        0.0        0.0     1623.0  ...          0          0   \n",
       "927        0.0        0.0    14411.0    14364.0  ...          0          1   \n",
       "928        0.0     3324.0     4507.0    14364.0  ...          0          0   \n",
       "\n",
       "     age_65+  age_<25  education_1_Bachelor  education_1_High school  \\\n",
       "0          0        0                     0                        0   \n",
       "1          0        0                     1                        0   \n",
       "2          0        0                     0                        0   \n",
       "3          0        1                     1                        0   \n",
       "4          0        0                     1                        0   \n",
       "..       ...      ...                   ...                      ...   \n",
       "924        0        0                     0                        0   \n",
       "925        0        1                     1                        0   \n",
       "926        0        0                     1                        0   \n",
       "927        0        0                     0                        1   \n",
       "928        0        0                     0                        1   \n",
       "\n",
       "     education_1_Master or doctorate  education_1_No degree  \\\n",
       "0                                  1                      0   \n",
       "1                                  0                      0   \n",
       "2                                  1                      0   \n",
       "3                                  0                      0   \n",
       "4                                  0                      0   \n",
       "..                               ...                    ...   \n",
       "924                                1                      0   \n",
       "925                                0                      0   \n",
       "926                                0                      0   \n",
       "927                                0                      0   \n",
       "928                                0                      0   \n",
       "\n",
       "     education_1_Primary  education_1_Vocational  \n",
       "0                      0                       0  \n",
       "1                      0                       0  \n",
       "2                      0                       0  \n",
       "3                      0                       0  \n",
       "4                      0                       0  \n",
       "..                   ...                     ...  \n",
       "924                    0                       0  \n",
       "925                    0                       0  \n",
       "926                    0                       0  \n",
       "927                    0                       0  \n",
       "928                    0                       0  \n",
       "\n",
       "[922 rows x 353 columns]"
      ]
     },
     "execution_count": 114,
     "metadata": {},
     "output_type": "execute_result"
    }
   ],
   "source": [
    "# This was my first idea of creating dummy variables, selecting certain columns. However, I found out that this is not the ideal way.\n",
    "# dfDummies = pd.get_dummies(df[[\"city\", \"gender\", \"education_1\"]])\n",
    "\n",
    "dfDummies = pd.get_dummies(df)\n",
    "dfDummies"
   ]
  },
  {
   "cell_type": "markdown",
   "metadata": {},
   "source": [
    "Make a linear regression model that predicts the mean steps per participant:"
   ]
  },
  {
   "cell_type": "code",
   "execution_count": 115,
   "metadata": {},
   "outputs": [
    {
     "data": {
      "image/png": "[encoded data removed]",
      "text/plain": [
       "<Figure size 360x360 with 1 Axes>"
      ]
     },
     "metadata": {
      "needs_background": "light"
     },
     "output_type": "display_data"
    }
   ],
   "source": [
    "trainingData, testData = train_test_split(dfDummies, test_size=0.2)\n",
    "\n",
    "sns.lmplot(x=\"BMI\", y=\"Mean_steps_per_participant\", data=trainingData, ci=False)\n",
    "plt.xlabel(\"BMI\")\n",
    "plt.ylabel(\"Mean_steps_per_participant\")\n",
    "plt.show()"
   ]
  },
  {
   "cell_type": "markdown",
   "metadata": {},
   "source": [
    "The above plot makes the following clear:\n",
    "- Most part participant's BMI lie between 17 and 30.\n",
    "- There are a few outliers above 115.000 steps.\n",
    "- Most average steps lie around 2500 steps."
   ]
  },
  {
   "cell_type": "markdown",
   "metadata": {},
   "source": [
    "<h2>Evaluation</h2>"
   ]
  },
  {
   "cell_type": "markdown",
   "metadata": {},
   "source": [
    "Predictive power of the model (R2, RMSE)"
   ]
  },
  {
   "cell_type": "code",
   "execution_count": 116,
   "metadata": {},
   "outputs": [
    {
     "data": {
      "text/html": [
       "<div>\n",
       "<style scoped>\n",
       "    .dataframe tbody tr th:only-of-type {\n",
       "        vertical-align: middle;\n",
       "    }\n",
       "\n",
       "    .dataframe tbody tr th {\n",
       "        vertical-align: top;\n",
       "    }\n",
       "\n",
       "    .dataframe thead th {\n",
       "        text-align: right;\n",
       "    }\n",
       "</style>\n",
       "<table border=\"1\" class=\"dataframe\">\n",
       "  <thead>\n",
       "    <tr style=\"text-align: right;\">\n",
       "      <th></th>\n",
       "      <th>Mean_steps_per_participant</th>\n",
       "      <th>id</th>\n",
       "      <th>hh_size</th>\n",
       "      <th>education</th>\n",
       "      <th>height</th>\n",
       "      <th>weight</th>\n",
       "      <th>20-6-2013</th>\n",
       "      <th>21-6-2013</th>\n",
       "      <th>22-6-2013</th>\n",
       "      <th>23-6-2013</th>\n",
       "      <th>...</th>\n",
       "      <th>age_55-64</th>\n",
       "      <th>age_65+</th>\n",
       "      <th>age_&lt;25</th>\n",
       "      <th>education_1_Bachelor</th>\n",
       "      <th>education_1_High school</th>\n",
       "      <th>education_1_Master or doctorate</th>\n",
       "      <th>education_1_No degree</th>\n",
       "      <th>education_1_Primary</th>\n",
       "      <th>education_1_Vocational</th>\n",
       "      <th>Steps_predict</th>\n",
       "    </tr>\n",
       "  </thead>\n",
       "  <tbody>\n",
       "    <tr>\n",
       "      <th>327</th>\n",
       "      <td>191.0</td>\n",
       "      <td>328</td>\n",
       "      <td>1</td>\n",
       "      <td>1</td>\n",
       "      <td>1.81</td>\n",
       "      <td>72.0</td>\n",
       "      <td>0.0</td>\n",
       "      <td>0.0</td>\n",
       "      <td>0.0</td>\n",
       "      <td>0.0</td>\n",
       "      <td>...</td>\n",
       "      <td>0</td>\n",
       "      <td>0</td>\n",
       "      <td>0</td>\n",
       "      <td>0</td>\n",
       "      <td>0</td>\n",
       "      <td>1</td>\n",
       "      <td>0</td>\n",
       "      <td>0</td>\n",
       "      <td>0</td>\n",
       "      <td>2421.984466</td>\n",
       "    </tr>\n",
       "    <tr>\n",
       "      <th>38</th>\n",
       "      <td>3483.0</td>\n",
       "      <td>39</td>\n",
       "      <td>1</td>\n",
       "      <td>2</td>\n",
       "      <td>1.95</td>\n",
       "      <td>90.0</td>\n",
       "      <td>0.0</td>\n",
       "      <td>10375.0</td>\n",
       "      <td>10097.0</td>\n",
       "      <td>9027.0</td>\n",
       "      <td>...</td>\n",
       "      <td>0</td>\n",
       "      <td>0</td>\n",
       "      <td>0</td>\n",
       "      <td>0</td>\n",
       "      <td>0</td>\n",
       "      <td>1</td>\n",
       "      <td>0</td>\n",
       "      <td>0</td>\n",
       "      <td>0</td>\n",
       "      <td>2355.568557</td>\n",
       "    </tr>\n",
       "    <tr>\n",
       "      <th>586</th>\n",
       "      <td>674.0</td>\n",
       "      <td>587</td>\n",
       "      <td>2</td>\n",
       "      <td>5</td>\n",
       "      <td>1.85</td>\n",
       "      <td>88.0</td>\n",
       "      <td>0.0</td>\n",
       "      <td>0.0</td>\n",
       "      <td>0.0</td>\n",
       "      <td>0.0</td>\n",
       "      <td>...</td>\n",
       "      <td>0</td>\n",
       "      <td>0</td>\n",
       "      <td>1</td>\n",
       "      <td>1</td>\n",
       "      <td>0</td>\n",
       "      <td>0</td>\n",
       "      <td>0</td>\n",
       "      <td>0</td>\n",
       "      <td>0</td>\n",
       "      <td>1324.429922</td>\n",
       "    </tr>\n",
       "    <tr>\n",
       "      <th>325</th>\n",
       "      <td>1638.0</td>\n",
       "      <td>326</td>\n",
       "      <td>3</td>\n",
       "      <td>4</td>\n",
       "      <td>1.71</td>\n",
       "      <td>86.0</td>\n",
       "      <td>0.0</td>\n",
       "      <td>11187.0</td>\n",
       "      <td>9072.0</td>\n",
       "      <td>7615.0</td>\n",
       "      <td>...</td>\n",
       "      <td>0</td>\n",
       "      <td>0</td>\n",
       "      <td>0</td>\n",
       "      <td>1</td>\n",
       "      <td>0</td>\n",
       "      <td>0</td>\n",
       "      <td>0</td>\n",
       "      <td>0</td>\n",
       "      <td>0</td>\n",
       "      <td>1512.449733</td>\n",
       "    </tr>\n",
       "    <tr>\n",
       "      <th>779</th>\n",
       "      <td>4360.0</td>\n",
       "      <td>780</td>\n",
       "      <td>3</td>\n",
       "      <td>4</td>\n",
       "      <td>1.75</td>\n",
       "      <td>71.0</td>\n",
       "      <td>0.0</td>\n",
       "      <td>11891.0</td>\n",
       "      <td>12523.0</td>\n",
       "      <td>6194.0</td>\n",
       "      <td>...</td>\n",
       "      <td>1</td>\n",
       "      <td>0</td>\n",
       "      <td>0</td>\n",
       "      <td>0</td>\n",
       "      <td>0</td>\n",
       "      <td>1</td>\n",
       "      <td>0</td>\n",
       "      <td>0</td>\n",
       "      <td>0</td>\n",
       "      <td>2041.352726</td>\n",
       "    </tr>\n",
       "    <tr>\n",
       "      <th>...</th>\n",
       "      <td>...</td>\n",
       "      <td>...</td>\n",
       "      <td>...</td>\n",
       "      <td>...</td>\n",
       "      <td>...</td>\n",
       "      <td>...</td>\n",
       "      <td>...</td>\n",
       "      <td>...</td>\n",
       "      <td>...</td>\n",
       "      <td>...</td>\n",
       "      <td>...</td>\n",
       "      <td>...</td>\n",
       "      <td>...</td>\n",
       "      <td>...</td>\n",
       "      <td>...</td>\n",
       "      <td>...</td>\n",
       "      <td>...</td>\n",
       "      <td>...</td>\n",
       "      <td>...</td>\n",
       "      <td>...</td>\n",
       "      <td>...</td>\n",
       "    </tr>\n",
       "    <tr>\n",
       "      <th>436</th>\n",
       "      <td>87.0</td>\n",
       "      <td>437</td>\n",
       "      <td>5</td>\n",
       "      <td>4</td>\n",
       "      <td>1.75</td>\n",
       "      <td>88.0</td>\n",
       "      <td>0.0</td>\n",
       "      <td>0.0</td>\n",
       "      <td>0.0</td>\n",
       "      <td>0.0</td>\n",
       "      <td>...</td>\n",
       "      <td>1</td>\n",
       "      <td>0</td>\n",
       "      <td>0</td>\n",
       "      <td>0</td>\n",
       "      <td>0</td>\n",
       "      <td>1</td>\n",
       "      <td>0</td>\n",
       "      <td>0</td>\n",
       "      <td>0</td>\n",
       "      <td>2156.627484</td>\n",
       "    </tr>\n",
       "    <tr>\n",
       "      <th>297</th>\n",
       "      <td>84.0</td>\n",
       "      <td>298</td>\n",
       "      <td>6</td>\n",
       "      <td>4</td>\n",
       "      <td>1.69</td>\n",
       "      <td>79.0</td>\n",
       "      <td>0.0</td>\n",
       "      <td>0.0</td>\n",
       "      <td>0.0</td>\n",
       "      <td>0.0</td>\n",
       "      <td>...</td>\n",
       "      <td>0</td>\n",
       "      <td>0</td>\n",
       "      <td>0</td>\n",
       "      <td>0</td>\n",
       "      <td>1</td>\n",
       "      <td>0</td>\n",
       "      <td>0</td>\n",
       "      <td>0</td>\n",
       "      <td>0</td>\n",
       "      <td>3072.010804</td>\n",
       "    </tr>\n",
       "    <tr>\n",
       "      <th>64</th>\n",
       "      <td>1905.0</td>\n",
       "      <td>65</td>\n",
       "      <td>6</td>\n",
       "      <td>4</td>\n",
       "      <td>1.58</td>\n",
       "      <td>54.0</td>\n",
       "      <td>0.0</td>\n",
       "      <td>0.0</td>\n",
       "      <td>0.0</td>\n",
       "      <td>0.0</td>\n",
       "      <td>...</td>\n",
       "      <td>0</td>\n",
       "      <td>0</td>\n",
       "      <td>0</td>\n",
       "      <td>0</td>\n",
       "      <td>0</td>\n",
       "      <td>1</td>\n",
       "      <td>0</td>\n",
       "      <td>0</td>\n",
       "      <td>0</td>\n",
       "      <td>3109.014550</td>\n",
       "    </tr>\n",
       "    <tr>\n",
       "      <th>208</th>\n",
       "      <td>906.0</td>\n",
       "      <td>209</td>\n",
       "      <td>2</td>\n",
       "      <td>2</td>\n",
       "      <td>1.76</td>\n",
       "      <td>74.0</td>\n",
       "      <td>0.0</td>\n",
       "      <td>0.0</td>\n",
       "      <td>0.0</td>\n",
       "      <td>12061.0</td>\n",
       "      <td>...</td>\n",
       "      <td>0</td>\n",
       "      <td>0</td>\n",
       "      <td>0</td>\n",
       "      <td>0</td>\n",
       "      <td>0</td>\n",
       "      <td>1</td>\n",
       "      <td>0</td>\n",
       "      <td>0</td>\n",
       "      <td>0</td>\n",
       "      <td>1860.606487</td>\n",
       "    </tr>\n",
       "    <tr>\n",
       "      <th>449</th>\n",
       "      <td>481.0</td>\n",
       "      <td>450</td>\n",
       "      <td>1</td>\n",
       "      <td>1</td>\n",
       "      <td>1.65</td>\n",
       "      <td>55.0</td>\n",
       "      <td>0.0</td>\n",
       "      <td>0.0</td>\n",
       "      <td>0.0</td>\n",
       "      <td>0.0</td>\n",
       "      <td>...</td>\n",
       "      <td>0</td>\n",
       "      <td>0</td>\n",
       "      <td>0</td>\n",
       "      <td>1</td>\n",
       "      <td>0</td>\n",
       "      <td>0</td>\n",
       "      <td>0</td>\n",
       "      <td>0</td>\n",
       "      <td>0</td>\n",
       "      <td>2061.216100</td>\n",
       "    </tr>\n",
       "  </tbody>\n",
       "</table>\n",
       "<p>185 rows × 354 columns</p>\n",
       "</div>"
      ],
      "text/plain": [
       "     Mean_steps_per_participant   id  hh_size  education  height  weight  \\\n",
       "327                       191.0  328        1          1    1.81    72.0   \n",
       "38                       3483.0   39        1          2    1.95    90.0   \n",
       "586                       674.0  587        2          5    1.85    88.0   \n",
       "325                      1638.0  326        3          4    1.71    86.0   \n",
       "779                      4360.0  780        3          4    1.75    71.0   \n",
       "..                          ...  ...      ...        ...     ...     ...   \n",
       "436                        87.0  437        5          4    1.75    88.0   \n",
       "297                        84.0  298        6          4    1.69    79.0   \n",
       "64                       1905.0   65        6          4    1.58    54.0   \n",
       "208                       906.0  209        2          2    1.76    74.0   \n",
       "449                       481.0  450        1          1    1.65    55.0   \n",
       "\n",
       "     20-6-2013  21-6-2013  22-6-2013  23-6-2013  ...  age_55-64  age_65+  \\\n",
       "327        0.0        0.0        0.0        0.0  ...          0        0   \n",
       "38         0.0    10375.0    10097.0     9027.0  ...          0        0   \n",
       "586        0.0        0.0        0.0        0.0  ...          0        0   \n",
       "325        0.0    11187.0     9072.0     7615.0  ...          0        0   \n",
       "779        0.0    11891.0    12523.0     6194.0  ...          1        0   \n",
       "..         ...        ...        ...        ...  ...        ...      ...   \n",
       "436        0.0        0.0        0.0        0.0  ...          1        0   \n",
       "297        0.0        0.0        0.0        0.0  ...          0        0   \n",
       "64         0.0        0.0        0.0        0.0  ...          0        0   \n",
       "208        0.0        0.0        0.0    12061.0  ...          0        0   \n",
       "449        0.0        0.0        0.0        0.0  ...          0        0   \n",
       "\n",
       "     age_<25  education_1_Bachelor  education_1_High school  \\\n",
       "327        0                     0                        0   \n",
       "38         0                     0                        0   \n",
       "586        1                     1                        0   \n",
       "325        0                     1                        0   \n",
       "779        0                     0                        0   \n",
       "..       ...                   ...                      ...   \n",
       "436        0                     0                        0   \n",
       "297        0                     0                        1   \n",
       "64         0                     0                        0   \n",
       "208        0                     0                        0   \n",
       "449        0                     1                        0   \n",
       "\n",
       "     education_1_Master or doctorate  education_1_No degree  \\\n",
       "327                                1                      0   \n",
       "38                                 1                      0   \n",
       "586                                0                      0   \n",
       "325                                0                      0   \n",
       "779                                1                      0   \n",
       "..                               ...                    ...   \n",
       "436                                1                      0   \n",
       "297                                0                      0   \n",
       "64                                 1                      0   \n",
       "208                                1                      0   \n",
       "449                                0                      0   \n",
       "\n",
       "     education_1_Primary  education_1_Vocational  Steps_predict  \n",
       "327                    0                       0    2421.984466  \n",
       "38                     0                       0    2355.568557  \n",
       "586                    0                       0    1324.429922  \n",
       "325                    0                       0    1512.449733  \n",
       "779                    0                       0    2041.352726  \n",
       "..                   ...                     ...            ...  \n",
       "436                    0                       0    2156.627484  \n",
       "297                    0                       0    3072.010804  \n",
       "64                     0                       0    3109.014550  \n",
       "208                    0                       0    1860.606487  \n",
       "449                    0                       0    2061.216100  \n",
       "\n",
       "[185 rows x 354 columns]"
      ]
     },
     "execution_count": 116,
     "metadata": {},
     "output_type": "execute_result"
    }
   ],
   "source": [
    "# Independent variable\n",
    "# Note for myself: Bereken mean steps (y) aan de hand van BMI en anderen (x)\n",
    "x = testData[[\"BMI\", \"education_1_Bachelor\", \"education_1_High school\", \"education_1_Master or doctorate\", \"education_1_No degree\", \"education_1_Primary\", \"education_1_Vocational\", \"city_Bordeaux\", \"city_Lille\", \"city_Lyon\", \"city_Montpellier\", \"gender_Female\", \"gender_Male\"]]\n",
    "\n",
    "# Dependent variable\n",
    "y = testData[\"Mean_steps_per_participant\"]\n",
    "\n",
    "# Create a model where the slope and interfall will be calculated\n",
    "lm = LinearRegression()\n",
    "lm.fit(x, y)\n",
    "\n",
    "testData[\"Steps_predict\"] = lm.predict(x)\n",
    "testData\n",
    "\n",
    "# Use this to show all columns\n",
    "# testData.head()"
   ]
  },
  {
   "cell_type": "code",
   "execution_count": 117,
   "metadata": {},
   "outputs": [
    {
     "data": {
      "text/plain": [
       "0.0599168865999834"
      ]
     },
     "execution_count": 117,
     "metadata": {},
     "output_type": "execute_result"
    }
   ],
   "source": [
    "r2_score(testData[\"Mean_steps_per_participant\"], testData[\"Steps_predict\"])"
   ]
  },
  {
   "cell_type": "code",
   "execution_count": 118,
   "metadata": {},
   "outputs": [
    {
     "data": {
      "text/plain": [
       "2415.597043400904"
      ]
     },
     "execution_count": 118,
     "metadata": {},
     "output_type": "execute_result"
    }
   ],
   "source": [
    "import math\n",
    "\n",
    "math.sqrt(mean_squared_error(testData[\"Mean_steps_per_participant\"], testData[\"Steps_predict\"]))"
   ]
  },
  {
   "cell_type": "markdown",
   "metadata": {},
   "source": [
    "Calculate the residual:"
   ]
  },
  {
   "cell_type": "code",
   "execution_count": 119,
   "metadata": {},
   "outputs": [
    {
     "data": {
      "text/plain": [
       "count    1.850000e+02\n",
       "mean    -2.458094e-15\n",
       "std      2.422152e+03\n",
       "min     -3.287111e+03\n",
       "25%     -1.588428e+03\n",
       "50%     -7.764535e+02\n",
       "75%      9.205493e+02\n",
       "max      1.035858e+04\n",
       "Name: residual, dtype: float64"
      ]
     },
     "execution_count": 119,
     "metadata": {},
     "output_type": "execute_result"
    }
   ],
   "source": [
    "testData[\"residual\"] = testData[\"Mean_steps_per_participant\"] - testData[\"Steps_predict\"]\n",
    "testData[\"residual\"].describe()"
   ]
  },
  {
   "cell_type": "code",
   "execution_count": 120,
   "metadata": {},
   "outputs": [
    {
     "data": {
      "text/plain": [
       "<AxesSubplot:xlabel='BMI', ylabel='residual'>"
      ]
     },
     "execution_count": 120,
     "metadata": {},
     "output_type": "execute_result"
    },
    {
     "data": {
      "image/png": "[encoded data removed]",
      "text/plain": [
       "<Figure size 432x288 with 1 Axes>"
      ]
     },
     "metadata": {
      "needs_background": "light"
     },
     "output_type": "display_data"
    }
   ],
   "source": [
    "sns.scatterplot(data = testData, x = \"BMI\", y = \"residual\")"
   ]
  },
  {
   "cell_type": "markdown",
   "metadata": {},
   "source": [
    "<h2>Conclusion</h2>\n",
    "Based on the R^2 calculation above, we can predict 4.4% of the variation in the mean steps per participant based on their BMI. My prediction is off by 2218.71 steps. This is a big inaccuracy, which can be described by the big amount of zero's in the created dummy values. Therefore, my created model is not accurate. I therefore thought I needed to type .dropna() instead of .fillna(0) right at the beginning of this file, but that will clear the whole dataframe unfortunately."
   ]
  }
 ],
 "metadata": {
  "kernelspec": {
   "display_name": "Python 3.9.12 ('base')",
   "language": "python",
   "name": "python3"
  },
  "language_info": {
   "codemirror_mode": {
    "name": "ipython",
    "version": 3
   },
   "file_extension": ".py",
   "mimetype": "text/x-python",
   "name": "python",
   "nbconvert_exporter": "python",
   "pygments_lexer": "ipython3",
   "version": "3.9.12"
  },
  "orig_nbformat": 4,
  "vscode": {
   "interpreter": {
    "hash": "859f46bc92e475e363915657dae3905a3cdaf7c45b276187bbffa6ce78abdd77"
   }
  }
 },
 "nbformat": 4,
 "nbformat_minor": 2
}
